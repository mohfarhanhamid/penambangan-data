{
 "cells": [
  {
   "cell_type": "code",
   "execution_count": 2,
   "metadata": {},
   "outputs": [
    {
     "data": {
      "text/html": [
       "<style  type=\"text/css\" >\n",
       "</style><table id=\"T_8ca04e86_cfde_11e9_95da_9822effc84c0\" ><thead>    <tr>        <th class=\"col_heading level0 col0\" >stats</th>        <th class=\"col_heading level0 col1\" >tinggi badan</th>        <th class=\"col_heading level0 col2\" >berat badan</th>        <th class=\"col_heading level0 col3\" >umur</th>        <th class=\"col_heading level0 col4\" >ukuran sepatu</th>    </tr></thead><tbody>\n",
       "                <tr>\n",
       "                                <td id=\"T_8ca04e86_cfde_11e9_95da_9822effc84c0row0_col0\" class=\"data row0 col0\" >Min</td>\n",
       "                        <td id=\"T_8ca04e86_cfde_11e9_95da_9822effc84c0row0_col1\" class=\"data row0 col1\" >120</td>\n",
       "                        <td id=\"T_8ca04e86_cfde_11e9_95da_9822effc84c0row0_col2\" class=\"data row0 col2\" >50</td>\n",
       "                        <td id=\"T_8ca04e86_cfde_11e9_95da_9822effc84c0row0_col3\" class=\"data row0 col3\" >20</td>\n",
       "                        <td id=\"T_8ca04e86_cfde_11e9_95da_9822effc84c0row0_col4\" class=\"data row0 col4\" >22</td>\n",
       "            </tr>\n",
       "            <tr>\n",
       "                                <td id=\"T_8ca04e86_cfde_11e9_95da_9822effc84c0row1_col0\" class=\"data row1 col0\" >Max</td>\n",
       "                        <td id=\"T_8ca04e86_cfde_11e9_95da_9822effc84c0row1_col1\" class=\"data row1 col1\" >150</td>\n",
       "                        <td id=\"T_8ca04e86_cfde_11e9_95da_9822effc84c0row1_col2\" class=\"data row1 col2\" >70</td>\n",
       "                        <td id=\"T_8ca04e86_cfde_11e9_95da_9822effc84c0row1_col3\" class=\"data row1 col3\" >50</td>\n",
       "                        <td id=\"T_8ca04e86_cfde_11e9_95da_9822effc84c0row1_col4\" class=\"data row1 col4\" >42</td>\n",
       "            </tr>\n",
       "            <tr>\n",
       "                                <td id=\"T_8ca04e86_cfde_11e9_95da_9822effc84c0row2_col0\" class=\"data row2 col0\" >Mean</td>\n",
       "                        <td id=\"T_8ca04e86_cfde_11e9_95da_9822effc84c0row2_col1\" class=\"data row2 col1\" >135.255</td>\n",
       "                        <td id=\"T_8ca04e86_cfde_11e9_95da_9822effc84c0row2_col2\" class=\"data row2 col2\" >59.8637</td>\n",
       "                        <td id=\"T_8ca04e86_cfde_11e9_95da_9822effc84c0row2_col3\" class=\"data row2 col3\" >35.1944</td>\n",
       "                        <td id=\"T_8ca04e86_cfde_11e9_95da_9822effc84c0row2_col4\" class=\"data row2 col4\" >31.8697</td>\n",
       "            </tr>\n",
       "            <tr>\n",
       "                                <td id=\"T_8ca04e86_cfde_11e9_95da_9822effc84c0row3_col0\" class=\"data row3 col0\" >Standart Deviasi</td>\n",
       "                        <td id=\"T_8ca04e86_cfde_11e9_95da_9822effc84c0row3_col1\" class=\"data row3 col1\" >8.98</td>\n",
       "                        <td id=\"T_8ca04e86_cfde_11e9_95da_9822effc84c0row3_col2\" class=\"data row3 col2\" >6.11</td>\n",
       "                        <td id=\"T_8ca04e86_cfde_11e9_95da_9822effc84c0row3_col3\" class=\"data row3 col3\" >8.84</td>\n",
       "                        <td id=\"T_8ca04e86_cfde_11e9_95da_9822effc84c0row3_col4\" class=\"data row3 col4\" >5.91</td>\n",
       "            </tr>\n",
       "            <tr>\n",
       "                                <td id=\"T_8ca04e86_cfde_11e9_95da_9822effc84c0row4_col0\" class=\"data row4 col0\" >Variasi</td>\n",
       "                        <td id=\"T_8ca04e86_cfde_11e9_95da_9822effc84c0row4_col1\" class=\"data row4 col1\" >80.68</td>\n",
       "                        <td id=\"T_8ca04e86_cfde_11e9_95da_9822effc84c0row4_col2\" class=\"data row4 col2\" >37.29</td>\n",
       "                        <td id=\"T_8ca04e86_cfde_11e9_95da_9822effc84c0row4_col3\" class=\"data row4 col3\" >78.15</td>\n",
       "                        <td id=\"T_8ca04e86_cfde_11e9_95da_9822effc84c0row4_col4\" class=\"data row4 col4\" >34.9</td>\n",
       "            </tr>\n",
       "            <tr>\n",
       "                                <td id=\"T_8ca04e86_cfde_11e9_95da_9822effc84c0row5_col0\" class=\"data row5 col0\" >Skewnes</td>\n",
       "                        <td id=\"T_8ca04e86_cfde_11e9_95da_9822effc84c0row5_col1\" class=\"data row5 col1\" >-0.01</td>\n",
       "                        <td id=\"T_8ca04e86_cfde_11e9_95da_9822effc84c0row5_col2\" class=\"data row5 col2\" >0.02</td>\n",
       "                        <td id=\"T_8ca04e86_cfde_11e9_95da_9822effc84c0row5_col3\" class=\"data row5 col3\" >-0.01</td>\n",
       "                        <td id=\"T_8ca04e86_cfde_11e9_95da_9822effc84c0row5_col4\" class=\"data row5 col4\" >0.04</td>\n",
       "            </tr>\n",
       "            <tr>\n",
       "                                <td id=\"T_8ca04e86_cfde_11e9_95da_9822effc84c0row6_col0\" class=\"data row6 col0\" >Quantile 1</td>\n",
       "                        <td id=\"T_8ca04e86_cfde_11e9_95da_9822effc84c0row6_col1\" class=\"data row6 col1\" >127</td>\n",
       "                        <td id=\"T_8ca04e86_cfde_11e9_95da_9822effc84c0row6_col2\" class=\"data row6 col2\" >54.5</td>\n",
       "                        <td id=\"T_8ca04e86_cfde_11e9_95da_9822effc84c0row6_col3\" class=\"data row6 col3\" >28</td>\n",
       "                        <td id=\"T_8ca04e86_cfde_11e9_95da_9822effc84c0row6_col4\" class=\"data row6 col4\" >27</td>\n",
       "            </tr>\n",
       "            <tr>\n",
       "                                <td id=\"T_8ca04e86_cfde_11e9_95da_9822effc84c0row7_col0\" class=\"data row7 col0\" >Quantile 2</td>\n",
       "                        <td id=\"T_8ca04e86_cfde_11e9_95da_9822effc84c0row7_col1\" class=\"data row7 col1\" >135</td>\n",
       "                        <td id=\"T_8ca04e86_cfde_11e9_95da_9822effc84c0row7_col2\" class=\"data row7 col2\" >60</td>\n",
       "                        <td id=\"T_8ca04e86_cfde_11e9_95da_9822effc84c0row7_col3\" class=\"data row7 col3\" >35</td>\n",
       "                        <td id=\"T_8ca04e86_cfde_11e9_95da_9822effc84c0row7_col4\" class=\"data row7 col4\" >32</td>\n",
       "            </tr>\n",
       "            <tr>\n",
       "                                <td id=\"T_8ca04e86_cfde_11e9_95da_9822effc84c0row8_col0\" class=\"data row8 col0\" >Quantile 3</td>\n",
       "                        <td id=\"T_8ca04e86_cfde_11e9_95da_9822effc84c0row8_col1\" class=\"data row8 col1\" >143</td>\n",
       "                        <td id=\"T_8ca04e86_cfde_11e9_95da_9822effc84c0row8_col2\" class=\"data row8 col2\" >65</td>\n",
       "                        <td id=\"T_8ca04e86_cfde_11e9_95da_9822effc84c0row8_col3\" class=\"data row8 col3\" >43</td>\n",
       "                        <td id=\"T_8ca04e86_cfde_11e9_95da_9822effc84c0row8_col4\" class=\"data row8 col4\" >37</td>\n",
       "            </tr>\n",
       "            <tr>\n",
       "                                <td id=\"T_8ca04e86_cfde_11e9_95da_9822effc84c0row9_col0\" class=\"data row9 col0\" >Median</td>\n",
       "                        <td id=\"T_8ca04e86_cfde_11e9_95da_9822effc84c0row9_col1\" class=\"data row9 col1\" >135</td>\n",
       "                        <td id=\"T_8ca04e86_cfde_11e9_95da_9822effc84c0row9_col2\" class=\"data row9 col2\" >60</td>\n",
       "                        <td id=\"T_8ca04e86_cfde_11e9_95da_9822effc84c0row9_col3\" class=\"data row9 col3\" >35</td>\n",
       "                        <td id=\"T_8ca04e86_cfde_11e9_95da_9822effc84c0row9_col4\" class=\"data row9 col4\" >32</td>\n",
       "            </tr>\n",
       "            <tr>\n",
       "                                <td id=\"T_8ca04e86_cfde_11e9_95da_9822effc84c0row10_col0\" class=\"data row10 col0\" >Modus</td>\n",
       "                        <td id=\"T_8ca04e86_cfde_11e9_95da_9822effc84c0row10_col1\" class=\"data row10 col1\" >123</td>\n",
       "                        <td id=\"T_8ca04e86_cfde_11e9_95da_9822effc84c0row10_col2\" class=\"data row10 col2\" >62</td>\n",
       "                        <td id=\"T_8ca04e86_cfde_11e9_95da_9822effc84c0row10_col3\" class=\"data row10 col3\" >25</td>\n",
       "                        <td id=\"T_8ca04e86_cfde_11e9_95da_9822effc84c0row10_col4\" class=\"data row10 col4\" >26</td>\n",
       "            </tr>\n",
       "    </tbody></table>"
      ],
      "text/plain": [
       "<pandas.io.formats.style.Styler at 0x2d48c2449e8>"
      ]
     },
     "execution_count": 2,
     "metadata": {},
     "output_type": "execute_result"
    }
   ],
   "source": [
    "import pandas as pd\n",
    "from scipy import stats\n",
    "df = pd.read_csv('hamid.csv',sep=';')\n",
    "data={\"stats\":['Min','Max','Mean','Standart Deviasi','Variasi','Skewnes','Quantile 1','Quantile 2',\n",
    "               'Quantile 3','Median','Modus']}\n",
    "for i in df.columns:\n",
    "    data[i] = [df[i].min(), df[i].max(), df[i].mean(), round(df[i].std(),2), round(df[i].var(),2),\n",
    "               round(df[i].skew(),2), df[i].quantile(0.25),df[i].quantile(0.5),df[i].quantile(0.75), \n",
    "               df[i].median(), stats.mode(df[i]).mode[0]]\n",
    "tes = pd.DataFrame(data)\n",
    "tes.style.hide_index()"
   ]
  },
  {
   "cell_type": "code",
   "execution_count": null,
   "metadata": {},
   "outputs": [],
   "source": []
  }
 ],
 "metadata": {
  "kernelspec": {
   "display_name": "Python 3",
   "language": "python",
   "name": "python3"
  },
  "language_info": {
   "codemirror_mode": {
    "name": "ipython",
    "version": 3
   },
   "file_extension": ".py",
   "mimetype": "text/x-python",
   "name": "python",
   "nbconvert_exporter": "python",
   "pygments_lexer": "ipython3",
   "version": "3.7.3"
  }
 },
 "nbformat": 4,
 "nbformat_minor": 2
}
